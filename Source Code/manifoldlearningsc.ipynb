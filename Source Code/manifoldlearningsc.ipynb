{
 "cells": [
  {
   "cell_type": "markdown",
   "id": "73ff4e94",
   "metadata": {},
   "source": [
    "## Project 3 - Manifold Learning in the context of Partially Labelled Classification\n",
    "by Telmo Cunha - 21/06/2022"
   ]
  },
  {
   "cell_type": "markdown",
   "id": "1fbc02e9",
   "metadata": {},
   "source": [
    "## Table of contents\n",
    "1. [Libraries & Data Import](#1)\n",
    "2. [PCA](#2)\n",
    "3. [Adjacency Matrix & Laplace Operator](#3)\n",
    "4. [Selecting a random labeled dataset](#4)\n",
    "5. [Eigenvalues/Eigenvectors of the Graph Laplacian](#5)\n",
    "6. [Classification function, predicted labels and error rate](#6)\n",
    "7. [Results using 60,000 datapoints](#7)\n",
    "8. [Results using 10,000 datapoints](#8)\n",
    "9. [Results using 1,000 datapoints](#9)\n",
    "10. [Results using kNN](#10)\n",
    "11. [Final Plot](#11)"
   ]
  },
  {
   "cell_type": "markdown",
   "id": "56e6ce90",
   "metadata": {},
   "source": [
    "## 1. Libraries & Data Import <a name=\"1\"></a>"
   ]
  },
  {
   "cell_type": "markdown",
   "id": "40551633",
   "metadata": {},
   "source": [
    "Importing the MNIST dataset and required libraries."
   ]
  },
  {
   "cell_type": "code",
   "execution_count": 1,
   "id": "accbeefd",
   "metadata": {},
   "outputs": [],
   "source": [
    "import numpy as np\n",
    "import matplotlib.pyplot as plt\n",
    "import random\n",
    "from sklearn.decomposition import PCA\n",
    "\n",
    "# install library command (in conda): pip install python-mnist\n",
    "from mnist import MNIST\n",
    "from sklearn.neighbors import kneighbors_graph\n",
    "import scipy.sparse as sp\n",
    "import scipy.sparse.linalg  as la"
   ]
  },
  {
   "cell_type": "code",
   "execution_count": 2,
   "id": "b01fb973",
   "metadata": {},
   "outputs": [],
   "source": [
    "mnistdata = MNIST('data')\n",
    "\n",
    "# image_features contains 60,000 images of digits where each image_features[i] is a 28*28=784 sized vector with entries\n",
    "# corresponding to gray scale factors from {0,1,...,255}\n",
    "image_features, labels = mnistdata.load_training()"
   ]
  },
  {
   "cell_type": "code",
   "execution_count": 3,
   "id": "fba12710",
   "metadata": {
    "scrolled": true
   },
   "outputs": [
    {
     "name": "stdout",
     "output_type": "stream",
     "text": [
      "Picture: \n",
      "............................\n",
      "............................\n",
      "............................\n",
      "............................\n",
      "............................\n",
      "............................\n",
      "............................\n",
      ".........@@@.....@@@@@......\n",
      ".........@@@@@@@@@@@@@......\n",
      "........@@@@@.....@@@@......\n",
      "........@@@.......@@@@......\n",
      "........@@........@@@.......\n",
      ".................@@@@.......\n",
      ".................@@@........\n",
      "................@@@.........\n",
      "...............@@@@.........\n",
      "..............@@@@..........\n",
      "..............@@@...........\n",
      ".............@@@............\n",
      "............@@@@............\n",
      "............@@@.............\n",
      "...........@@@..............\n",
      "..........@@@...............\n",
      ".........@@@................\n",
      "........@@@@................\n",
      "........@@@.................\n",
      "........@...................\n",
      "............................\n",
      "\n",
      "Label:\n",
      "7\n",
      "\n",
      "Vector:\n",
      "[0, 0, 0, 0, 0, 0, 0, 0, 0, 0, 0, 0, 0, 0, 0, 0, 0, 0, 0, 0, 0, 0, 0, 0, 0, 0, 0, 0, 0, 0, 0, 0, 0, 0, 0, 0, 0, 0, 0, 0, 0, 0, 0, 0, 0, 0, 0, 0, 0, 0, 0, 0, 0, 0, 0, 0, 0, 0, 0, 0, 0, 0, 0, 0, 0, 0, 0, 0, 0, 0, 0, 0, 0, 0, 0, 0, 0, 0, 0, 0, 0, 0, 0, 0, 0, 0, 0, 0, 0, 0, 0, 0, 0, 0, 0, 0, 0, 0, 0, 0, 0, 0, 0, 0, 0, 0, 0, 0, 0, 0, 0, 0, 0, 0, 0, 0, 0, 0, 0, 0, 0, 0, 0, 0, 0, 0, 0, 0, 0, 0, 0, 0, 0, 0, 0, 0, 0, 0, 0, 0, 0, 0, 0, 0, 0, 0, 0, 0, 0, 0, 0, 0, 0, 0, 0, 0, 0, 0, 0, 0, 0, 0, 0, 0, 0, 0, 0, 0, 0, 0, 0, 0, 0, 0, 0, 0, 0, 0, 0, 0, 0, 0, 0, 0, 0, 0, 0, 0, 0, 0, 0, 0, 0, 0, 0, 0, 0, 0, 0, 0, 0, 0, 0, 0, 5, 211, 254, 254, 188, 136, 136, 136, 180, 202, 252, 255, 254, 224, 37, 0, 0, 0, 0, 0, 0, 0, 0, 0, 0, 0, 0, 8, 152, 253, 253, 253, 253, 253, 253, 253, 253, 253, 253, 253, 253, 253, 170, 0, 0, 0, 0, 0, 0, 0, 0, 0, 0, 0, 0, 79, 253, 253, 253, 253, 223, 200, 200, 200, 200, 200, 252, 253, 253, 253, 91, 0, 0, 0, 0, 0, 0, 0, 0, 0, 0, 0, 0, 171, 253, 253, 253, 182, 29, 0, 0, 0, 0, 0, 249, 253, 253, 205, 14, 0, 0, 0, 0, 0, 0, 0, 0, 0, 0, 0, 0, 75, 253, 253, 125, 2, 0, 0, 0, 0, 0, 93, 252, 253, 253, 147, 0, 0, 0, 0, 0, 0, 0, 0, 0, 0, 0, 0, 0, 6, 29, 29, 4, 0, 0, 0, 0, 0, 0, 217, 253, 253, 233, 41, 0, 0, 0, 0, 0, 0, 0, 0, 0, 0, 0, 0, 0, 0, 0, 0, 0, 0, 0, 0, 0, 0, 149, 252, 253, 253, 91, 0, 0, 0, 0, 0, 0, 0, 0, 0, 0, 0, 0, 0, 0, 0, 0, 0, 0, 0, 0, 0, 6, 60, 236, 253, 252, 147, 0, 0, 0, 0, 0, 0, 0, 0, 0, 0, 0, 0, 0, 0, 0, 0, 0, 0, 0, 0, 0, 0, 79, 253, 253, 253, 222, 0, 0, 0, 0, 0, 0, 0, 0, 0, 0, 0, 0, 0, 0, 0, 0, 0, 0, 0, 0, 0, 0, 57, 231, 253, 253, 227, 95, 0, 0, 0, 0, 0, 0, 0, 0, 0, 0, 0, 0, 0, 0, 0, 0, 0, 0, 0, 0, 0, 0, 160, 253, 253, 253, 106, 0, 0, 0, 0, 0, 0, 0, 0, 0, 0, 0, 0, 0, 0, 0, 0, 0, 0, 0, 0, 0, 0, 65, 238, 253, 253, 129, 4, 0, 0, 0, 0, 0, 0, 0, 0, 0, 0, 0, 0, 0, 0, 0, 0, 0, 0, 0, 0, 0, 6, 243, 253, 253, 219, 23, 0, 0, 0, 0, 0, 0, 0, 0, 0, 0, 0, 0, 0, 0, 0, 0, 0, 0, 0, 0, 0, 55, 188, 253, 253, 217, 31, 0, 0, 0, 0, 0, 0, 0, 0, 0, 0, 0, 0, 0, 0, 0, 0, 0, 0, 0, 0, 0, 11, 179, 253, 253, 235, 68, 0, 0, 0, 0, 0, 0, 0, 0, 0, 0, 0, 0, 0, 0, 0, 0, 0, 0, 0, 0, 0, 47, 196, 253, 253, 249, 77, 0, 0, 0, 0, 0, 0, 0, 0, 0, 0, 0, 0, 0, 0, 0, 0, 0, 0, 0, 0, 0, 14, 173, 253, 253, 253, 144, 0, 0, 0, 0, 0, 0, 0, 0, 0, 0, 0, 0, 0, 0, 0, 0, 0, 0, 0, 0, 0, 0, 93, 253, 253, 253, 210, 23, 0, 0, 0, 0, 0, 0, 0, 0, 0, 0, 0, 0, 0, 0, 0, 0, 0, 0, 0, 0, 0, 0, 171, 253, 253, 211, 23, 0, 0, 0, 0, 0, 0, 0, 0, 0, 0, 0, 0, 0, 0, 0, 0, 0, 0, 0, 0, 0, 0, 0, 117, 253, 156, 23, 0, 0, 0, 0, 0, 0, 0, 0, 0, 0, 0, 0, 0, 0, 0, 0, 0, 0, 0, 0, 0, 0, 0, 0, 0, 0, 0, 0, 0, 0, 0, 0, 0, 0, 0, 0, 0, 0, 0, 0, 0, 0, 0, 0, 0]\n"
     ]
    }
   ],
   "source": [
    "# Random example from the dataset\n",
    "\n",
    "# Select a random datapoint\n",
    "index = random.randrange(0, len(image_features))\n",
    "\n",
    "# Print the 'picture'\n",
    "print(\"Picture:\",mnistdata.display(image_features[index]))\n",
    "\n",
    "# Print the label\n",
    "print(\"\\nLabel:\")\n",
    "print(labels[index])\n",
    "\n",
    "# Print the 28x28=784 vector\n",
    "print(\"\\nVector:\")\n",
    "print(image_features[index])"
   ]
  },
  {
   "cell_type": "markdown",
   "id": "50fa2b8c",
   "metadata": {},
   "source": [
    "## 2. PCA <a name=\"2\"></a>"
   ]
  },
  {
   "cell_type": "markdown",
   "id": "b6c81330",
   "metadata": {},
   "source": [
    "To reduce computation time and because some pixels in the image are not significant we first perform PCA to reduce dimensionality. Since all values are within the same range, $\\{0,1,...,255\\}$, we do not standardize the data. We mimick the main paper and keep 100 principal components."
   ]
  },
  {
   "cell_type": "code",
   "execution_count": 4,
   "id": "4a1121de",
   "metadata": {},
   "outputs": [],
   "source": [
    "pca = PCA(n_components = 100)\n",
    "pca_features = pca.fit_transform(image_features)"
   ]
  },
  {
   "cell_type": "markdown",
   "id": "5cf24bef",
   "metadata": {},
   "source": [
    "## 3. Adjacency Matrix & Laplace Operator <a name=\"3\"></a>"
   ]
  },
  {
   "cell_type": "markdown",
   "id": "e814d782",
   "metadata": {},
   "source": [
    "To compute the adjacency matrix $W$ over the entire dataset we use the $\\textbf{kneighbors_graph()}$ function from sklearn. This function returns a compressed sparse row (csr) matrix, $A$, with the $k$ nearest neighbours for each node, i.e. each datapoint.\n",
    "\n",
    "This will not be the adjacency matrix $W$, if node $i$ has $k$ neighbours, one of each is node $j$ but node $j$ has $k$ neighbours which does not include node $i$ then $A_{ij}=1$ and $A_{ji}=0$ where we would want both to be 1. Therefore we need to symmetrize the matrix, we construct $W=A+A^T$ and then do $W[W>=1]=1$ to convert the entries that become 2 to 1 to finally obtain the adjacency matrix."
   ]
  },
  {
   "cell_type": "markdown",
   "id": "a2e116a0",
   "metadata": {},
   "source": [
    "In order to compute the (Graph) Laplace operator, $L=D-W$, we need to determine the diagonal matrix $D$. Since $D_{ii}=deg(node_i)$ we just take the sum over each row (or column)."
   ]
  },
  {
   "cell_type": "code",
   "execution_count": 5,
   "id": "428b4b70",
   "metadata": {},
   "outputs": [],
   "source": [
    "def graph_laplacian(pca_features):\n",
    "    \n",
    "    # k sets the number of neighbours to consider\n",
    "    k=8\n",
    "    \n",
    "    # Returns a compressed sparse row (csr) matrix type\n",
    "    A = kneighbors_graph(pca_features, n_neighbors=k, mode='connectivity', metric='minkowski', p=2, include_self=False)\n",
    "    W=(A+A.T)\n",
    "    W[W>=1]=1\n",
    "    \n",
    "    X=W.sum(axis = 1)\n",
    "    \n",
    "    A=np.asarray(X)\n",
    "    a=[]\n",
    "    for i in range(len(A)):\n",
    "        a.append(A[i][0])\n",
    "        \n",
    "    D=sp.diags(a, offsets=0, shape=None, format=None, dtype=None)\n",
    "    L=D-W\n",
    "    \n",
    "    return L"
   ]
  },
  {
   "cell_type": "code",
   "execution_count": 6,
   "id": "205dc032",
   "metadata": {
    "scrolled": true
   },
   "outputs": [],
   "source": [
    "L = graph_laplacian(pca_features)"
   ]
  },
  {
   "cell_type": "markdown",
   "id": "8b912aeb",
   "metadata": {},
   "source": [
    "## 4. Selecting a random labeled dataset <a name=\"4\"></a>"
   ]
  },
  {
   "cell_type": "markdown",
   "id": "86ab7bb9",
   "metadata": {},
   "source": [
    "To build a labeled dataset of size $s$ we just copy $s$ randomly chosen datapoints and labels from the original dataset. Recall that these are the only labels that we shall consider under this semi-supervised learning model. Therefore, the remaining dataset (minus these chosen datapoints) will be unlabeled."
   ]
  },
  {
   "cell_type": "code",
   "execution_count": 7,
   "id": "750aa120",
   "metadata": {},
   "outputs": [],
   "source": [
    "def sample_label_points(s,image_features,labels):\n",
    "    # list of all possible datapoint indices\n",
    "    all_indices=np.arange(len(image_features))\n",
    "    \n",
    "    # list of a random choice of indices to remove from the data\n",
    "    index_list=np.random.choice(all_indices,s,replace='false')\n",
    "    index_list=np.sort(index_list)\n",
    "    \n",
    "    # constructing the labeled dataset\n",
    "    labeled_images_dataset=[]\n",
    "    labeled_labels_dataset=[]\n",
    "    \n",
    "    for i in index_list:\n",
    "        labeled_images_dataset.append(image_features[i])\n",
    "        labeled_labels_dataset.append(labels[i])\n",
    "        \n",
    "    return labeled_images_dataset, labeled_labels_dataset, index_list"
   ]
  },
  {
   "cell_type": "code",
   "execution_count": 8,
   "id": "496b4988",
   "metadata": {},
   "outputs": [],
   "source": [
    "# number of labeled points\n",
    "s=100\n",
    "labeled_images_dataset, labels_labeled_dataset, index_list = sample_label_points(s,image_features,labels)"
   ]
  },
  {
   "cell_type": "markdown",
   "id": "bcac5591",
   "metadata": {},
   "source": [
    "## 5. Eigenvalues/Eigenvectors of the Graph Laplacian <a name=\"5\"></a>"
   ]
  },
  {
   "cell_type": "markdown",
   "id": "9baf3e10",
   "metadata": {},
   "source": [
    "Here we compute the eigenfunctions of the graph Laplacian where the number of eigenfunctions we keep (for smoothness purposes) is $20\\%$ of the size of the labeled dataset (as done in the paper). The solution of the least squares optimization problem is given by $(E^TE)^{-1}E^Tc$. We compute $E$ using the $\\textit{E_matrix()}$ function and $c$ using the $\\textit{c_vector()}$ function."
   ]
  },
  {
   "cell_type": "code",
   "execution_count": 9,
   "id": "1fbd28ae",
   "metadata": {},
   "outputs": [],
   "source": [
    "# p = number of eigenvectors to consider for smoothness purposes (p=20% of the labeled set size)\n",
    "p=round(s*0.2)\n",
    "\n",
    "# selecting the smallest magnitude eigenvalues and eigenvectors \n",
    "evalues, efunctions=la.eigs(L,k=p,which='SM')"
   ]
  },
  {
   "cell_type": "code",
   "execution_count": 10,
   "id": "8c779d28",
   "metadata": {},
   "outputs": [],
   "source": [
    "# constructing the E matrix (solution of the optimization problem is )\n",
    "\n",
    "def E_matrix(efunctions,index_list,s,p):\n",
    "\n",
    "    E=np.zeros((s,p))\n",
    "    \n",
    "    for i in range(s):\n",
    "        for j in range(p):\n",
    "            \n",
    "            # we need to retrieve the entry correspoding to the datapoint coming from index_list\n",
    "            # this is the jth eigenvector, evector[:][j], with entry i corresponding to labeled points\n",
    "            E[i][j]=efunctions[index_list[i]][j]\n",
    "            \n",
    "    return E"
   ]
  },
  {
   "cell_type": "code",
   "execution_count": 11,
   "id": "b2452787",
   "metadata": {},
   "outputs": [],
   "source": [
    "# constructs the one-against all c vector of size s for a certain digit\n",
    "\n",
    "def c_vector(digit,labels_labeled_dataset):\n",
    "    \n",
    "    c=np.zeros((len(labels_labeled_dataset),1))\n",
    "    \n",
    "    for i in range(len(labels_labeled_dataset)):\n",
    "        if(labels_labeled_dataset[i]==digit):\n",
    "            c[i]=1\n",
    "        else:\n",
    "            c[i]=-1    \n",
    "    return c"
   ]
  },
  {
   "cell_type": "code",
   "execution_count": 12,
   "id": "88edc052",
   "metadata": {
    "scrolled": true
   },
   "outputs": [
    {
     "name": "stderr",
     "output_type": "stream",
     "text": [
      "C:\\Users\\telmo\\AppData\\Local\\Temp\\ipykernel_20336\\2120893750.py:12: ComplexWarning: Casting complex values to real discards the imaginary part\n",
      "  E[i][j]=efunctions[index_list[i]][j]\n"
     ]
    }
   ],
   "source": [
    "# calculations to obtain the solution of the optimization problem\n",
    "\n",
    "E=E_matrix(efunctions,index_list,s,p)\n",
    "X=np.matmul(E.T,E)\n",
    "Y=np.linalg.inv(X)\n",
    "Z=np.matmul(Y,E.T)"
   ]
  },
  {
   "cell_type": "markdown",
   "id": "c6e890ad",
   "metadata": {},
   "source": [
    "## 6. Classification function, predicted labels and error rate <a name=\"6\"></a>"
   ]
  },
  {
   "cell_type": "markdown",
   "id": "2a3d5b27",
   "metadata": {},
   "source": [
    "We shall use a one-against-all classification approach where we build a classifier for each class, i.e. each digit, and then use the result on each class as a confidence level on the predicted label."
   ]
  },
  {
   "cell_type": "code",
   "execution_count": 13,
   "id": "b87c723b",
   "metadata": {
    "scrolled": true
   },
   "outputs": [],
   "source": [
    "# computes the coefficients over the basis of eigenfunctions of L for each digit\n",
    "    \n",
    "def classifier_coefs(digit,labels_labeled_dataset):\n",
    "    \n",
    "    c=c_vector(digit,labels_labeled_dataset)\n",
    "    a=np.dot(Z,c)\n",
    "    \n",
    "    return a"
   ]
  },
  {
   "cell_type": "code",
   "execution_count": 14,
   "id": "cee59533",
   "metadata": {},
   "outputs": [],
   "source": [
    "# computes the classification results for each classifier and stores them on a matrix over the entire dataset (60000)\n",
    "# over each digit (10)\n",
    "\n",
    "def confidence_measure(efunctions,labels_labeled_dataset,n = 60000):\n",
    "    \n",
    "    confidence_levels=np.zeros((60000,10))\n",
    "    \n",
    "    for digit in range(10):\n",
    "        \n",
    "        # c is the one against all label vector\n",
    "        a=classifier_coefs(digit,labels_labeled_dataset)\n",
    "        \n",
    "        for i in range(n):\n",
    "            \n",
    "            y=np.real(efunctions[i][:].reshape((p,1)))\n",
    "            c_i=np.dot(a.T,y)\n",
    "            c_i=round(c_i[0][0],3)\n",
    "                    \n",
    "            confidence_levels[i][digit]=c_i\n",
    "    \n",
    "    return confidence_levels"
   ]
  },
  {
   "cell_type": "code",
   "execution_count": 15,
   "id": "7381392f",
   "metadata": {},
   "outputs": [],
   "source": [
    "# using the confidence_levels matrix we compute the labels by picking the class with highest confidence value\n",
    "\n",
    "def computing_labels(confidence_levels,n):\n",
    "    \n",
    "    final_labels=[]\n",
    "    \n",
    "    for i in range(n):\n",
    "        \n",
    "        l=confidence_levels[i,:]\n",
    "        x=np.argmax(l)\n",
    "        \n",
    "        #print(\"l:\",l,\"argmax:\",x)\n",
    "        \n",
    "        final_labels.append(x)\n",
    "            \n",
    "    return final_labels"
   ]
  },
  {
   "cell_type": "code",
   "execution_count": 16,
   "id": "77420863",
   "metadata": {
    "scrolled": true
   },
   "outputs": [],
   "source": [
    "# the warning is not an issue, since the matrix is symmetric we know all eigenvalues are real\n",
    "confidence_levels = confidence_measure(efunctions,labels_labeled_dataset)"
   ]
  },
  {
   "cell_type": "code",
   "execution_count": 17,
   "id": "05f53525",
   "metadata": {
    "scrolled": false
   },
   "outputs": [],
   "source": [
    "final_labels = computing_labels(confidence_levels,60000)"
   ]
  },
  {
   "cell_type": "code",
   "execution_count": 18,
   "id": "5d7019b7",
   "metadata": {},
   "outputs": [],
   "source": [
    "# we compute the error rate by considering false positives and false negatives over the unlabeled dataset\n",
    "\n",
    "def error_rate(labels,final_labels):\n",
    "    \n",
    "    error_count=0\n",
    "    \n",
    "    for i in range(len(labels)):\n",
    "        \n",
    "        if not(i in index_list):\n",
    "            \n",
    "            if(labels[i] != final_labels[i]):\n",
    "                error_count+=1.0\n",
    "                \n",
    "    error_rate=error_count/(len(labels)-len(index_list))\n",
    "    \n",
    "    return round(100*error_rate,3)"
   ]
  },
  {
   "cell_type": "code",
   "execution_count": 19,
   "id": "767a2d91",
   "metadata": {},
   "outputs": [
    {
     "name": "stdout",
     "output_type": "stream",
     "text": [
      "Error rate for s = 100 : 7.711 %\n"
     ]
    }
   ],
   "source": [
    "e=error_rate(labels,final_labels)\n",
    "print(\"Error rate for s =\", s, \":\", e, \"%\")"
   ]
  },
  {
   "cell_type": "markdown",
   "id": "f3ccc8e7",
   "metadata": {},
   "source": [
    "## 7. Results using 60,000 datapoints <a name=\"7\"></a>"
   ]
  },
  {
   "cell_type": "markdown",
   "id": "52f16df7",
   "metadata": {},
   "source": [
    "Having explained the procedure we now check the results by considering $10$ trials, i.e. we average the results over $10$ random draws of the labeled dataset, for different values of $s$, i.e. the size of the labeled dataset. For $s\\geq 5000$ we consider only 3 trials due to the time it takes to run."
   ]
  },
  {
   "cell_type": "code",
   "execution_count": 20,
   "id": "2321aed2",
   "metadata": {
    "scrolled": true
   },
   "outputs": [
    {
     "name": "stdout",
     "output_type": "stream",
     "text": [
      "Run: 1 ; s: 20\n"
     ]
    },
    {
     "name": "stderr",
     "output_type": "stream",
     "text": [
      "C:\\Users\\telmo\\AppData\\Local\\Temp\\ipykernel_20336\\2120893750.py:12: ComplexWarning: Casting complex values to real discards the imaginary part\n",
      "  E[i][j]=efunctions[index_list[i]][j]\n"
     ]
    },
    {
     "name": "stdout",
     "output_type": "stream",
     "text": [
      "Run: 2 ; s: 20\n",
      "Run: 3 ; s: 20\n",
      "Run: 4 ; s: 20\n",
      "Run: 5 ; s: 20\n",
      "Run: 6 ; s: 20\n",
      "Run: 7 ; s: 20\n",
      "Run: 8 ; s: 20\n",
      "Run: 9 ; s: 20\n",
      "Run: 10 ; s: 20\n",
      "s= 20 error: 58.194 %\n",
      "Run: 1 ; s: 50\n",
      "Run: 2 ; s: 50\n",
      "Run: 3 ; s: 50\n",
      "Run: 4 ; s: 50\n",
      "Run: 5 ; s: 50\n",
      "Run: 6 ; s: 50\n",
      "Run: 7 ; s: 50\n",
      "Run: 8 ; s: 50\n",
      "Run: 9 ; s: 50\n",
      "Run: 10 ; s: 50\n",
      "s= 50 error: 25.159 %\n",
      "Run: 1 ; s: 100\n",
      "Run: 2 ; s: 100\n",
      "Run: 3 ; s: 100\n",
      "Run: 4 ; s: 100\n",
      "Run: 5 ; s: 100\n",
      "Run: 6 ; s: 100\n",
      "Run: 7 ; s: 100\n",
      "Run: 8 ; s: 100\n",
      "Run: 9 ; s: 100\n",
      "Run: 10 ; s: 100\n",
      "s= 100 error: 8.022 %\n",
      "Run: 1 ; s: 500\n",
      "Run: 2 ; s: 500\n",
      "Run: 3 ; s: 500\n",
      "Run: 4 ; s: 500\n",
      "Run: 5 ; s: 500\n",
      "Run: 6 ; s: 500\n",
      "Run: 7 ; s: 500\n",
      "Run: 8 ; s: 500\n",
      "Run: 9 ; s: 500\n",
      "Run: 10 ; s: 500\n",
      "s= 500 error: 4.089 %\n",
      "Run: 1 ; s: 1000\n",
      "Run: 2 ; s: 1000\n",
      "Run: 3 ; s: 1000\n",
      "Run: 4 ; s: 1000\n",
      "Run: 5 ; s: 1000\n",
      "Run: 6 ; s: 1000\n",
      "Run: 7 ; s: 1000\n",
      "Run: 8 ; s: 1000\n",
      "Run: 9 ; s: 1000\n",
      "Run: 10 ; s: 1000\n",
      "s= 1000 error: 3.635 %\n",
      "Run: 1 ; s: 5000\n",
      "Run: 2 ; s: 5000\n",
      "Run: 3 ; s: 5000\n",
      "s= 5000 error: 3.431 %\n"
     ]
    }
   ],
   "source": [
    "trials=10\n",
    "errors_trials=np.zeros((trials,1))\n",
    "\n",
    "# with s=5000 onwards it gets super slow so we do only 3 trials\n",
    "s_list=[20,50,100,500,1000,5000]\n",
    "#s_list=[20,50,100,500,1000,5000,20000]\n",
    "#takes a long long time to run\n",
    "\n",
    "error60000_s={}\n",
    "\n",
    "for s in s_list:\n",
    "    \n",
    "    if(s>=5000):\n",
    "        trials=3\n",
    "\n",
    "    for k in range(trials):\n",
    "        \n",
    "        print(\"Run:\", k+1, \"; s:\",s)\n",
    "        \n",
    "        # i=s: number of labeled examples\n",
    "        labeled_images_dataset, labels_labeled_dataset, index_list=sample_label_points(s,image_features,labels)\n",
    "        \n",
    "        # p: number of eigenfunctions to keep\n",
    "        p=round(s*0.2)\n",
    "        \n",
    "        # computes the lowest eigenvalues/eigenvectors of the Laplace operator\n",
    "        evalues, efunctions=la.eigs(L,k=p,which='SM')\n",
    "        \n",
    "        E=E_matrix(efunctions,index_list,s,p)\n",
    "        X=np.matmul(E.T,E)\n",
    "        Y=np.linalg.inv(X)\n",
    "        Z=np.matmul(Y,E.T)\n",
    "        \n",
    "        # compute the labels for unlabeled points\n",
    "        confidence_levels = confidence_measure(efunctions,labels_labeled_dataset)\n",
    "        final_labels = computing_labels(confidence_levels,60000)\n",
    "        \n",
    "        # compute the error rate\n",
    "        errors_trials[k]=error_rate(labels,final_labels)\n",
    "        \n",
    "    x=round(np.mean(errors_trials),3)\n",
    "    print(\"s=\",s,\"error:\",x,\"%\")   \n",
    "    error60000_s[s]=x"
   ]
  },
  {
   "cell_type": "code",
   "execution_count": 21,
   "id": "44ba8c2a",
   "metadata": {},
   "outputs": [
    {
     "data": {
      "text/plain": [
       "Text(0.5, 1.0, 'Error rate for 60000 datapoints (# of labeled examples)')"
      ]
     },
     "execution_count": 21,
     "metadata": {},
     "output_type": "execute_result"
    },
    {
     "data": {
      "image/png": "[encoded data removed]",
      "text/plain": [
       "<Figure size 2000x1000 with 1 Axes>"
      ]
     },
     "metadata": {},
     "output_type": "display_data"
    }
   ],
   "source": [
    "#plot specifications\n",
    "\n",
    "# since the x axis distance is not relevant we use the code [1-20,2-50,3-100,4-500,5-1000,6-5000,7-20000]\n",
    "#x=list(error60000_s.keys())\n",
    "x=[1,2,3,4,5,6]\n",
    "\n",
    "y=list(error60000_s.values())\n",
    "plt.figure(figsize=(20, 10))\n",
    "plt.plot(x, y, marker='o', color='b')\n",
    "plt.xticks([1,2,3,4,5,6])\n",
    "plt.xlabel('s (# of labeled examples)')  # Add an x-label to the axes.\n",
    "#plt.xticks(np.arange(min(x)-1, 610, 20.0))\n",
    "plt.ylabel('Error rate (%)')  # Add a y-label to the axes.\n",
    "plt.title(\"Error rate for 60000 datapoints (# of labeled examples)\")  # Add a title to the axes."
   ]
  },
  {
   "cell_type": "markdown",
   "id": "d27b8cbf",
   "metadata": {},
   "source": [
    "## 8. Results using 10,000 datapoints <a name=\"8\"></a>"
   ]
  },
  {
   "cell_type": "markdown",
   "id": "398aced8",
   "metadata": {},
   "source": [
    "We do an example first, since there's an extra step now. First we draw 10000 datapoints of the 60000 dataset and further select the labeled dataset out of the 10000 dataset. Procedure for one trial with $s=100$:"
   ]
  },
  {
   "cell_type": "code",
   "execution_count": 22,
   "id": "e5dc074a",
   "metadata": {},
   "outputs": [],
   "source": [
    "# n: number of datapoints to consider for manifold learning\n",
    "n=10000\n",
    "\n",
    "# construct dataset of size n\n",
    "features_dataset, labels_dataset, not_needed = sample_label_points(n,image_features,labels)\n",
    "\n",
    "# performing pca on the dataset\n",
    "pca = PCA(n_components = 100)\n",
    "pca_features = pca.fit_transform(features_dataset)"
   ]
  },
  {
   "cell_type": "code",
   "execution_count": 23,
   "id": "14f9c555",
   "metadata": {},
   "outputs": [],
   "source": [
    "L=graph_laplacian(pca_features)"
   ]
  },
  {
   "cell_type": "code",
   "execution_count": 24,
   "id": "48ee2ebd",
   "metadata": {},
   "outputs": [],
   "source": [
    "# s: size of labeled dataset\n",
    "s=100\n",
    "\n",
    "# construct labeled dataset of size s\n",
    "features_labeled_dataset, labels_labeled_dataset, index_list = sample_label_points(s,pca_features,labels_dataset)"
   ]
  },
  {
   "cell_type": "code",
   "execution_count": 25,
   "id": "8daca660",
   "metadata": {},
   "outputs": [
    {
     "name": "stderr",
     "output_type": "stream",
     "text": [
      "C:\\Users\\telmo\\AppData\\Local\\Temp\\ipykernel_20336\\2120893750.py:12: ComplexWarning: Casting complex values to real discards the imaginary part\n",
      "  E[i][j]=efunctions[index_list[i]][j]\n"
     ]
    }
   ],
   "source": [
    "# p: number of eigenfunctions to consider\n",
    "p=round(s*0.2)\n",
    "evalues, efunctions=la.eigs(L,k=p,which='SM')\n",
    "\n",
    "E=E_matrix(efunctions,index_list,s,p)\n",
    "X=np.matmul(E.T,E)\n",
    "Y=np.linalg.inv(X)\n",
    "Z=np.matmul(Y,E.T)\n",
    "\n",
    "# We can ignore 'ComplexWarning', since the matrix is symmetric we know all eigenvalues are real"
   ]
  },
  {
   "cell_type": "code",
   "execution_count": 26,
   "id": "3f6251d0",
   "metadata": {},
   "outputs": [
    {
     "name": "stdout",
     "output_type": "stream",
     "text": [
      "Error rate for s = 100 : 13.808 %\n"
     ]
    }
   ],
   "source": [
    "confidence_levels = confidence_measure(efunctions,labels_labeled_dataset,n)\n",
    "final_labels = computing_labels(confidence_levels,n)\n",
    "e=error_rate(labels_dataset,final_labels)\n",
    "print(\"Error rate for s =\",s,\":\",e,\"%\")"
   ]
  },
  {
   "cell_type": "markdown",
   "id": "3779ad01",
   "metadata": {},
   "source": [
    "Procedure over 10 trials for different values of $s$"
   ]
  },
  {
   "cell_type": "code",
   "execution_count": 27,
   "id": "2d79d5eb",
   "metadata": {
    "scrolled": true
   },
   "outputs": [
    {
     "name": "stdout",
     "output_type": "stream",
     "text": [
      "Run: 1 ; s: 20\n"
     ]
    },
    {
     "name": "stderr",
     "output_type": "stream",
     "text": [
      "C:\\Users\\telmo\\AppData\\Local\\Temp\\ipykernel_20336\\2120893750.py:12: ComplexWarning: Casting complex values to real discards the imaginary part\n",
      "  E[i][j]=efunctions[index_list[i]][j]\n"
     ]
    },
    {
     "name": "stdout",
     "output_type": "stream",
     "text": [
      "Run: 2 ; s: 20\n",
      "Run: 3 ; s: 20\n",
      "Run: 4 ; s: 20\n",
      "Run: 5 ; s: 20\n",
      "Run: 6 ; s: 20\n",
      "Run: 7 ; s: 20\n",
      "Run: 8 ; s: 20\n",
      "Run: 9 ; s: 20\n",
      "Run: 10 ; s: 20\n",
      "s= 20 error: 57.055 %\n",
      "Run: 1 ; s: 50\n",
      "Run: 2 ; s: 50\n",
      "Run: 3 ; s: 50\n",
      "Run: 4 ; s: 50\n",
      "Run: 5 ; s: 50\n",
      "Run: 6 ; s: 50\n",
      "Run: 7 ; s: 50\n",
      "Run: 8 ; s: 50\n",
      "Run: 9 ; s: 50\n",
      "Run: 10 ; s: 50\n",
      "s= 50 error: 30.217 %\n",
      "Run: 1 ; s: 100\n",
      "Run: 2 ; s: 100\n",
      "Run: 3 ; s: 100\n",
      "Run: 4 ; s: 100\n",
      "Run: 5 ; s: 100\n",
      "Run: 6 ; s: 100\n",
      "Run: 7 ; s: 100\n",
      "Run: 8 ; s: 100\n",
      "Run: 9 ; s: 100\n",
      "Run: 10 ; s: 100\n",
      "s= 100 error: 16.63 %\n",
      "Run: 1 ; s: 500\n",
      "Run: 2 ; s: 500\n",
      "Run: 3 ; s: 500\n",
      "Run: 4 ; s: 500\n",
      "Run: 5 ; s: 500\n",
      "Run: 6 ; s: 500\n",
      "Run: 7 ; s: 500\n",
      "Run: 8 ; s: 500\n",
      "Run: 9 ; s: 500\n",
      "Run: 10 ; s: 500\n",
      "s= 500 error: 7.196 %\n",
      "Run: 1 ; s: 1000\n",
      "Run: 2 ; s: 1000\n",
      "Run: 3 ; s: 1000\n",
      "Run: 4 ; s: 1000\n",
      "Run: 5 ; s: 1000\n",
      "Run: 6 ; s: 1000\n",
      "Run: 7 ; s: 1000\n",
      "Run: 8 ; s: 1000\n",
      "Run: 9 ; s: 1000\n",
      "Run: 10 ; s: 1000\n",
      "s= 1000 error: 6.773 %\n",
      "Run: 1 ; s: 5000\n",
      "Run: 2 ; s: 5000\n",
      "Run: 3 ; s: 5000\n",
      "s= 5000 error: 6.541 %\n"
     ]
    }
   ],
   "source": [
    "trials=10\n",
    "errors_trials=np.zeros((trials,1))\n",
    "\n",
    "# with s=5000 it gets super slow so we do only 3 trials in that case\n",
    "# s_list=[20,50,100,500,1000]\n",
    "s_list=[20,50,100,500,1000,5000]\n",
    "\n",
    "error10000_s={}\n",
    "\n",
    "for s in s_list:\n",
    "    \n",
    "    if(s==5000):\n",
    "        trials=3\n",
    "\n",
    "    for k in range(trials):\n",
    "        \n",
    "        print(\"Run:\", k+1, \"; s:\",s)\n",
    "        \n",
    "        # i=s: number of labeled examples\n",
    "        features_labeled_dataset, labels_labeled_dataset, index_list = sample_label_points(s,pca_features,labels_dataset)\n",
    "        \n",
    "        # p: number of eigenfunctions to keep\n",
    "        p=round(s*0.2)\n",
    "        \n",
    "        # computes the lowest eigenvalues/eigenvectors of the Laplace operator\n",
    "        evalues, efunctions=la.eigs(L,k=p,which='SM')\n",
    "        \n",
    "        E=E_matrix(efunctions,index_list,s,p)\n",
    "        X=np.matmul(E.T,E)\n",
    "        Y=np.linalg.inv(X)\n",
    "        Z=np.matmul(Y,E.T)\n",
    "        \n",
    "        # compute the labels for unlabeled points\n",
    "        confidence_levels = confidence_measure(efunctions,labels_labeled_dataset,n)\n",
    "        final_labels = computing_labels(confidence_levels,n)\n",
    "        \n",
    "        # compute the error rate\n",
    "        errors_trials[k]=error_rate(labels_dataset,final_labels)\n",
    "        \n",
    "    x=round(np.mean(errors_trials),3)\n",
    "    print(\"s=\",s,\"error:\",x,\"%\")\n",
    "    error10000_s[s]=x"
   ]
  },
  {
   "cell_type": "code",
   "execution_count": 28,
   "id": "07eeb819",
   "metadata": {},
   "outputs": [
    {
     "data": {
      "text/plain": [
       "Text(0.5, 1.0, 'Error rate for 10000 datapoints (# of labeled examples)')"
      ]
     },
     "execution_count": 28,
     "metadata": {},
     "output_type": "execute_result"
    },
    {
     "data": {
      "image/png": "[encoded data removed]",
      "text/plain": [
       "<Figure size 2000x1000 with 1 Axes>"
      ]
     },
     "metadata": {},
     "output_type": "display_data"
    }
   ],
   "source": [
    "#plot specifications\n",
    "# since the x axis distance is not relevant we use the code [1-20,2-50,3-100,4-500,5-1000,6-5000,7-20000]\n",
    "#x=list(error60000_s.keys())\n",
    "x=[1,2,3,4,5,6]\n",
    "\n",
    "y=list(error10000_s.values())\n",
    "plt.figure(figsize=(20, 10))\n",
    "plt.plot(x, y,marker='x', color='b')\n",
    "plt.xlabel('s (# of labeled examples)')  # Add an x-label to the axes.\n",
    "plt.xticks([1,2,3,4,5,6])\n",
    "plt.yticks(np.arange(1,66,3))\n",
    "plt.ylabel('Error rate (%)')  # Add a y-label to the axes.\n",
    "plt.title(\"Error rate for 10000 datapoints (# of labeled examples)\")  # Add a title to the axes."
   ]
  },
  {
   "cell_type": "markdown",
   "id": "224be08c",
   "metadata": {},
   "source": [
    "## 9. Results using 1,000 datapoints <a name=\"9\"></a>"
   ]
  },
  {
   "cell_type": "code",
   "execution_count": 29,
   "id": "cb3842d4",
   "metadata": {},
   "outputs": [],
   "source": [
    "# n: number of datapoints to consider for manifold learning\n",
    "n=1000\n",
    "\n",
    "# construct dataset of size n\n",
    "features_dataset, labels_dataset, not_needed = sample_label_points(n,image_features,labels)\n",
    "\n",
    "# performing pca on the dataset\n",
    "pca = PCA(n_components = 100)\n",
    "pca_features = pca.fit_transform(features_dataset)"
   ]
  },
  {
   "cell_type": "code",
   "execution_count": 30,
   "id": "241f7499",
   "metadata": {},
   "outputs": [],
   "source": [
    "L=graph_laplacian(pca_features)"
   ]
  },
  {
   "cell_type": "markdown",
   "id": "4b2e7fb4",
   "metadata": {},
   "source": [
    "Procedure over 20 trials (since it is much faster for only 1000 datapoitns) for different values of $s$"
   ]
  },
  {
   "cell_type": "code",
   "execution_count": 31,
   "id": "588c47b2",
   "metadata": {},
   "outputs": [
    {
     "name": "stdout",
     "output_type": "stream",
     "text": [
      "Run: 1 ; s: 20\n",
      "Run: 2 ; s: 20\n",
      "Run: 3 ; s: 20\n"
     ]
    },
    {
     "name": "stderr",
     "output_type": "stream",
     "text": [
      "C:\\Users\\telmo\\AppData\\Local\\Temp\\ipykernel_20336\\2120893750.py:12: ComplexWarning: Casting complex values to real discards the imaginary part\n",
      "  E[i][j]=efunctions[index_list[i]][j]\n"
     ]
    },
    {
     "name": "stdout",
     "output_type": "stream",
     "text": [
      "Run: 4 ; s: 20\n",
      "Run: 5 ; s: 20\n",
      "Run: 6 ; s: 20\n",
      "Run: 7 ; s: 20\n",
      "Run: 8 ; s: 20\n",
      "Run: 9 ; s: 20\n",
      "Run: 10 ; s: 20\n",
      "Run: 11 ; s: 20\n",
      "Run: 12 ; s: 20\n",
      "Run: 13 ; s: 20\n",
      "Run: 14 ; s: 20\n",
      "Run: 15 ; s: 20\n",
      "Run: 16 ; s: 20\n",
      "Run: 17 ; s: 20\n",
      "Run: 18 ; s: 20\n",
      "Run: 19 ; s: 20\n",
      "Run: 20 ; s: 20\n",
      "s= 20 error: 62.005 %\n",
      "Run: 1 ; s: 50\n",
      "Run: 2 ; s: 50\n",
      "Run: 3 ; s: 50\n",
      "Run: 4 ; s: 50\n",
      "Run: 5 ; s: 50\n",
      "Run: 6 ; s: 50\n",
      "Run: 7 ; s: 50\n",
      "Run: 8 ; s: 50\n",
      "Run: 9 ; s: 50\n",
      "Run: 10 ; s: 50\n",
      "Run: 11 ; s: 50\n",
      "Run: 12 ; s: 50\n",
      "Run: 13 ; s: 50\n",
      "Run: 14 ; s: 50\n",
      "Run: 15 ; s: 50\n",
      "Run: 16 ; s: 50\n",
      "Run: 17 ; s: 50\n",
      "Run: 18 ; s: 50\n",
      "Run: 19 ; s: 50\n",
      "Run: 20 ; s: 50\n",
      "s= 50 error: 34.047 %\n",
      "Run: 1 ; s: 100\n",
      "Run: 2 ; s: 100\n",
      "Run: 3 ; s: 100\n",
      "Run: 4 ; s: 100\n",
      "Run: 5 ; s: 100\n",
      "Run: 6 ; s: 100\n",
      "Run: 7 ; s: 100\n",
      "Run: 8 ; s: 100\n",
      "Run: 9 ; s: 100\n",
      "Run: 10 ; s: 100\n",
      "Run: 11 ; s: 100\n",
      "Run: 12 ; s: 100\n",
      "Run: 13 ; s: 100\n",
      "Run: 14 ; s: 100\n",
      "Run: 15 ; s: 100\n",
      "Run: 16 ; s: 100\n",
      "Run: 17 ; s: 100\n",
      "Run: 18 ; s: 100\n",
      "Run: 19 ; s: 100\n",
      "Run: 20 ; s: 100\n",
      "s= 100 error: 22.967 %\n",
      "Run: 1 ; s: 500\n",
      "Run: 2 ; s: 500\n",
      "Run: 3 ; s: 500\n",
      "Run: 4 ; s: 500\n",
      "Run: 5 ; s: 500\n",
      "Run: 6 ; s: 500\n",
      "Run: 7 ; s: 500\n",
      "Run: 8 ; s: 500\n",
      "Run: 9 ; s: 500\n",
      "Run: 10 ; s: 500\n",
      "Run: 11 ; s: 500\n",
      "Run: 12 ; s: 500\n",
      "Run: 13 ; s: 500\n",
      "Run: 14 ; s: 500\n",
      "Run: 15 ; s: 500\n",
      "Run: 16 ; s: 500\n",
      "Run: 17 ; s: 500\n",
      "Run: 18 ; s: 500\n",
      "Run: 19 ; s: 500\n",
      "Run: 20 ; s: 500\n",
      "s= 500 error: 15.88 %\n"
     ]
    }
   ],
   "source": [
    "trials=20\n",
    "errors_trials=np.zeros((trials,1))\n",
    "s_list=[20,50,100,500]\n",
    "error1000_s={}\n",
    "\n",
    "for s in s_list:\n",
    "\n",
    "    for k in range(trials):\n",
    "        \n",
    "        print(\"Run:\", k+1, \"; s:\",s)\n",
    "        \n",
    "        # i=s: number of labeled examples\n",
    "        features_labeled_dataset, labels_labeled_dataset, index_list = sample_label_points(s,pca_features,labels_dataset)\n",
    "        \n",
    "        # p: number of eigenfunctions to keep\n",
    "        p=round(s*0.2)\n",
    "        \n",
    "        # computes the lowest eigenvalues/eigenvectors of the Laplace operator\n",
    "        evalues, efunctions=la.eigs(L,k=p,which='SM')\n",
    "        \n",
    "        E=E_matrix(efunctions,index_list,s,p)\n",
    "        X=np.matmul(E.T,E)\n",
    "        Y=np.linalg.inv(X)\n",
    "        Z=np.matmul(Y,E.T)\n",
    "        \n",
    "        # compute the labels for unlabeled points\n",
    "        confidence_levels = confidence_measure(efunctions,labels_labeled_dataset,n)\n",
    "        final_labels = computing_labels(confidence_levels,n)\n",
    "        \n",
    "        # compute the error rate\n",
    "        errors_trials[k]=error_rate(labels_dataset,final_labels)\n",
    "        \n",
    "    x=round(np.mean(errors_trials),3)\n",
    "    print(\"s=\",s,\"error:\",x,\"%\")\n",
    "    error1000_s[s]=x"
   ]
  },
  {
   "cell_type": "code",
   "execution_count": 32,
   "id": "b84b5378",
   "metadata": {},
   "outputs": [
    {
     "data": {
      "text/plain": [
       "Text(0.5, 1.0, 'Error rate for 1000 datapoints (# of labeled examples)')"
      ]
     },
     "execution_count": 32,
     "metadata": {},
     "output_type": "execute_result"
    },
    {
     "data": {
      "image/png": "[encoded data removed]",
      "text/plain": [
       "<Figure size 2000x1000 with 1 Axes>"
      ]
     },
     "metadata": {},
     "output_type": "display_data"
    }
   ],
   "source": [
    "#plot specifications\n",
    "\n",
    "# since the x axis distance is not relevant we use the code [1-20,2-50,3-100,4-500]\n",
    "#x=list(error1000_s.keys())\n",
    "x=[1,2,3,4]\n",
    "\n",
    "y=list(error1000_s.values())\n",
    "plt.figure(figsize=(20, 10))\n",
    "plt.plot(x, y,marker='x', color='b')\n",
    "plt.xlabel('s (# of labeled examples)')  # Add an x-label to the axes.\n",
    "plt.xticks([1,2,3,4])\n",
    "plt.yticks(np.arange(1,66,3))\n",
    "plt.ylabel('Error rate (%)')  # Add a y-label to the axes.\n",
    "plt.title(\"Error rate for 1000 datapoints (# of labeled examples)\")  # Add a title to the axes."
   ]
  },
  {
   "cell_type": "markdown",
   "id": "a2781ad2",
   "metadata": {},
   "source": [
    "## 10. Results using kNN <a name=\"10\"></a>"
   ]
  },
  {
   "cell_type": "code",
   "execution_count": 33,
   "id": "87d42384",
   "metadata": {},
   "outputs": [
    {
     "data": {
      "text/html": [
       "<style>#sk-container-id-1 {color: black;background-color: white;}#sk-container-id-1 pre{padding: 0;}#sk-container-id-1 div.sk-toggleable {background-color: white;}#sk-container-id-1 label.sk-toggleable__label {cursor: pointer;display: block;width: 100%;margin-bottom: 0;padding: 0.3em;box-sizing: border-box;text-align: center;}#sk-container-id-1 label.sk-toggleable__label-arrow:before {content: \"▸\";float: left;margin-right: 0.25em;color: #696969;}#sk-container-id-1 label.sk-toggleable__label-arrow:hover:before {color: black;}#sk-container-id-1 div.sk-estimator:hover label.sk-toggleable__label-arrow:before {color: black;}#sk-container-id-1 div.sk-toggleable__content {max-height: 0;max-width: 0;overflow: hidden;text-align: left;background-color: #f0f8ff;}#sk-container-id-1 div.sk-toggleable__content pre {margin: 0.2em;color: black;border-radius: 0.25em;background-color: #f0f8ff;}#sk-container-id-1 input.sk-toggleable__control:checked~div.sk-toggleable__content {max-height: 200px;max-width: 100%;overflow: auto;}#sk-container-id-1 input.sk-toggleable__control:checked~label.sk-toggleable__label-arrow:before {content: \"▾\";}#sk-container-id-1 div.sk-estimator input.sk-toggleable__control:checked~label.sk-toggleable__label {background-color: #d4ebff;}#sk-container-id-1 div.sk-label input.sk-toggleable__control:checked~label.sk-toggleable__label {background-color: #d4ebff;}#sk-container-id-1 input.sk-hidden--visually {border: 0;clip: rect(1px 1px 1px 1px);clip: rect(1px, 1px, 1px, 1px);height: 1px;margin: -1px;overflow: hidden;padding: 0;position: absolute;width: 1px;}#sk-container-id-1 div.sk-estimator {font-family: monospace;background-color: #f0f8ff;border: 1px dotted black;border-radius: 0.25em;box-sizing: border-box;margin-bottom: 0.5em;}#sk-container-id-1 div.sk-estimator:hover {background-color: #d4ebff;}#sk-container-id-1 div.sk-parallel-item::after {content: \"\";width: 100%;border-bottom: 1px solid gray;flex-grow: 1;}#sk-container-id-1 div.sk-label:hover label.sk-toggleable__label {background-color: #d4ebff;}#sk-container-id-1 div.sk-serial::before {content: \"\";position: absolute;border-left: 1px solid gray;box-sizing: border-box;top: 0;bottom: 0;left: 50%;z-index: 0;}#sk-container-id-1 div.sk-serial {display: flex;flex-direction: column;align-items: center;background-color: white;padding-right: 0.2em;padding-left: 0.2em;position: relative;}#sk-container-id-1 div.sk-item {position: relative;z-index: 1;}#sk-container-id-1 div.sk-parallel {display: flex;align-items: stretch;justify-content: center;background-color: white;position: relative;}#sk-container-id-1 div.sk-item::before, #sk-container-id-1 div.sk-parallel-item::before {content: \"\";position: absolute;border-left: 1px solid gray;box-sizing: border-box;top: 0;bottom: 0;left: 50%;z-index: -1;}#sk-container-id-1 div.sk-parallel-item {display: flex;flex-direction: column;z-index: 1;position: relative;background-color: white;}#sk-container-id-1 div.sk-parallel-item:first-child::after {align-self: flex-end;width: 50%;}#sk-container-id-1 div.sk-parallel-item:last-child::after {align-self: flex-start;width: 50%;}#sk-container-id-1 div.sk-parallel-item:only-child::after {width: 0;}#sk-container-id-1 div.sk-dashed-wrapped {border: 1px dashed gray;margin: 0 0.4em 0.5em 0.4em;box-sizing: border-box;padding-bottom: 0.4em;background-color: white;}#sk-container-id-1 div.sk-label label {font-family: monospace;font-weight: bold;display: inline-block;line-height: 1.2em;}#sk-container-id-1 div.sk-label-container {text-align: center;}#sk-container-id-1 div.sk-container {/* jupyter's `normalize.less` sets `[hidden] { display: none; }` but bootstrap.min.css set `[hidden] { display: none !important; }` so we also need the `!important` here to be able to override the default hidden behavior on the sphinx rendered scikit-learn.org. See: https://github.com/scikit-learn/scikit-learn/issues/21755 */display: inline-block !important;position: relative;}#sk-container-id-1 div.sk-text-repr-fallback {display: none;}</style><div id=\"sk-container-id-1\" class=\"sk-top-container\"><div class=\"sk-text-repr-fallback\"><pre>KNeighborsClassifier(n_neighbors=3)</pre><b>In a Jupyter environment, please rerun this cell to show the HTML representation or trust the notebook. <br />On GitHub, the HTML representation is unable to render, please try loading this page with nbviewer.org.</b></div><div class=\"sk-container\" hidden><div class=\"sk-item\"><div class=\"sk-estimator sk-toggleable\"><input class=\"sk-toggleable__control sk-hidden--visually\" id=\"sk-estimator-id-1\" type=\"checkbox\" checked><label for=\"sk-estimator-id-1\" class=\"sk-toggleable__label sk-toggleable__label-arrow\">KNeighborsClassifier</label><div class=\"sk-toggleable__content\"><pre>KNeighborsClassifier(n_neighbors=3)</pre></div></div></div></div></div>"
      ],
      "text/plain": [
       "KNeighborsClassifier(n_neighbors=3)"
      ]
     },
     "execution_count": 33,
     "metadata": {},
     "output_type": "execute_result"
    }
   ],
   "source": [
    "from sklearn.neighbors import KNeighborsClassifier\n",
    "\n",
    "image_features, labels = mnistdata.load_training()\n",
    "pca = PCA(n_components = 100)\n",
    "pca_features = pca.fit_transform(image_features)\n",
    "\n",
    "# n: number of labeled examples\n",
    "s=20\n",
    "features_dataset, labels_dataset, index_list = sample_label_points(s,pca_features,labels)\n",
    "\n",
    "neigh = KNeighborsClassifier(n_neighbors=3,p=2, metric='minkowski')\n",
    "neigh.fit(features_dataset, labels_dataset)"
   ]
  },
  {
   "cell_type": "code",
   "execution_count": 34,
   "id": "b6d83216",
   "metadata": {},
   "outputs": [],
   "source": [
    "def knn_error_rate(index_list,pca_features,labels):\n",
    "    \n",
    "    error_count=0\n",
    "    \n",
    "    for i in range(len(labels)):\n",
    "        \n",
    "        if not(i in index_list):\n",
    "            \n",
    "            if(labels[i] != neigh.predict([pca_features[i]])):\n",
    "                error_count+=1.0\n",
    "                \n",
    "    error_rate=error_count/(len(pca_features)-len(index_list))\n",
    "    \n",
    "    return error_rate"
   ]
  },
  {
   "cell_type": "code",
   "execution_count": 35,
   "id": "d0cf7e55",
   "metadata": {},
   "outputs": [
    {
     "name": "stdout",
     "output_type": "stream",
     "text": [
      "kNN error rate for s = 20 : 66.616 %\n"
     ]
    }
   ],
   "source": [
    "knn_error = knn_error_rate(index_list,pca_features,labels)\n",
    "print(\"kNN error rate for s =\",s,\":\", round(100*knn_error,3),\"%\")"
   ]
  },
  {
   "cell_type": "code",
   "execution_count": 36,
   "id": "27cc3ac0",
   "metadata": {},
   "outputs": [
    {
     "name": "stdout",
     "output_type": "stream",
     "text": [
      "kNN error rate for s = 20 : 58.373 %\n",
      "kNN error rate for s = 50 : 43.079 %\n",
      "kNN error rate for s = 100 : 37.666 %\n"
     ]
    },
    {
     "ename": "KeyboardInterrupt",
     "evalue": "",
     "output_type": "error",
     "traceback": [
      "\u001b[1;31m---------------------------------------------------------------------------\u001b[0m",
      "\u001b[1;31mKeyboardInterrupt\u001b[0m                         Traceback (most recent call last)",
      "Cell \u001b[1;32mIn[36], line 13\u001b[0m\n\u001b[0;32m     10\u001b[0m neigh \u001b[38;5;241m=\u001b[39m KNeighborsClassifier(n_neighbors\u001b[38;5;241m=\u001b[39m\u001b[38;5;241m3\u001b[39m,p\u001b[38;5;241m=\u001b[39m\u001b[38;5;241m2\u001b[39m, metric\u001b[38;5;241m=\u001b[39m\u001b[38;5;124m'\u001b[39m\u001b[38;5;124mminkowski\u001b[39m\u001b[38;5;124m'\u001b[39m)\n\u001b[0;32m     11\u001b[0m neigh\u001b[38;5;241m.\u001b[39mfit(features_dataset, labels_dataset)\n\u001b[1;32m---> 13\u001b[0m knn_error \u001b[38;5;241m=\u001b[39m \u001b[43mknn_error_rate\u001b[49m\u001b[43m(\u001b[49m\u001b[43mindex_list\u001b[49m\u001b[43m,\u001b[49m\u001b[43mpca_features\u001b[49m\u001b[43m,\u001b[49m\u001b[43mlabels\u001b[49m\u001b[43m)\u001b[49m\n\u001b[0;32m     14\u001b[0m x\u001b[38;5;241m=\u001b[39m\u001b[38;5;28mround\u001b[39m(\u001b[38;5;241m100\u001b[39m\u001b[38;5;241m*\u001b[39mknn_error,\u001b[38;5;241m3\u001b[39m)\n\u001b[0;32m     15\u001b[0m \u001b[38;5;28mprint\u001b[39m(\u001b[38;5;124m\"\u001b[39m\u001b[38;5;124mkNN error rate for s =\u001b[39m\u001b[38;5;124m\"\u001b[39m,s,\u001b[38;5;124m\"\u001b[39m\u001b[38;5;124m:\u001b[39m\u001b[38;5;124m\"\u001b[39m,x,\u001b[38;5;124m\"\u001b[39m\u001b[38;5;124m%\u001b[39m\u001b[38;5;124m\"\u001b[39m)\n",
      "Cell \u001b[1;32mIn[34], line 9\u001b[0m, in \u001b[0;36mknn_error_rate\u001b[1;34m(index_list, pca_features, labels)\u001b[0m\n\u001b[0;32m      5\u001b[0m \u001b[38;5;28;01mfor\u001b[39;00m i \u001b[38;5;129;01min\u001b[39;00m \u001b[38;5;28mrange\u001b[39m(\u001b[38;5;28mlen\u001b[39m(labels)):\n\u001b[0;32m      7\u001b[0m     \u001b[38;5;28;01mif\u001b[39;00m \u001b[38;5;129;01mnot\u001b[39;00m(i \u001b[38;5;129;01min\u001b[39;00m index_list):\n\u001b[1;32m----> 9\u001b[0m         \u001b[38;5;28;01mif\u001b[39;00m(labels[i] \u001b[38;5;241m!=\u001b[39m \u001b[43mneigh\u001b[49m\u001b[38;5;241;43m.\u001b[39;49m\u001b[43mpredict\u001b[49m\u001b[43m(\u001b[49m\u001b[43m[\u001b[49m\u001b[43mpca_features\u001b[49m\u001b[43m[\u001b[49m\u001b[43mi\u001b[49m\u001b[43m]\u001b[49m\u001b[43m]\u001b[49m\u001b[43m)\u001b[49m):\n\u001b[0;32m     10\u001b[0m             error_count\u001b[38;5;241m+\u001b[39m\u001b[38;5;241m=\u001b[39m\u001b[38;5;241m1.0\u001b[39m\n\u001b[0;32m     12\u001b[0m error_rate\u001b[38;5;241m=\u001b[39merror_count\u001b[38;5;241m/\u001b[39m(\u001b[38;5;28mlen\u001b[39m(pca_features)\u001b[38;5;241m-\u001b[39m\u001b[38;5;28mlen\u001b[39m(index_list))\n",
      "File \u001b[1;32m~\\anaconda3\\lib\\site-packages\\sklearn\\neighbors\\_classification.py:234\u001b[0m, in \u001b[0;36mKNeighborsClassifier.predict\u001b[1;34m(self, X)\u001b[0m\n\u001b[0;32m    218\u001b[0m \u001b[38;5;124;03m\"\"\"Predict the class labels for the provided data.\u001b[39;00m\n\u001b[0;32m    219\u001b[0m \n\u001b[0;32m    220\u001b[0m \u001b[38;5;124;03mParameters\u001b[39;00m\n\u001b[1;32m   (...)\u001b[0m\n\u001b[0;32m    229\u001b[0m \u001b[38;5;124;03m    Class labels for each data sample.\u001b[39;00m\n\u001b[0;32m    230\u001b[0m \u001b[38;5;124;03m\"\"\"\u001b[39;00m\n\u001b[0;32m    231\u001b[0m \u001b[38;5;28;01mif\u001b[39;00m \u001b[38;5;28mself\u001b[39m\u001b[38;5;241m.\u001b[39mweights \u001b[38;5;241m==\u001b[39m \u001b[38;5;124m\"\u001b[39m\u001b[38;5;124muniform\u001b[39m\u001b[38;5;124m\"\u001b[39m:\n\u001b[0;32m    232\u001b[0m     \u001b[38;5;66;03m# In that case, we do not need the distances to perform\u001b[39;00m\n\u001b[0;32m    233\u001b[0m     \u001b[38;5;66;03m# the weighting so we do not compute them.\u001b[39;00m\n\u001b[1;32m--> 234\u001b[0m     neigh_ind \u001b[38;5;241m=\u001b[39m \u001b[38;5;28;43mself\u001b[39;49m\u001b[38;5;241;43m.\u001b[39;49m\u001b[43mkneighbors\u001b[49m\u001b[43m(\u001b[49m\u001b[43mX\u001b[49m\u001b[43m,\u001b[49m\u001b[43m \u001b[49m\u001b[43mreturn_distance\u001b[49m\u001b[38;5;241;43m=\u001b[39;49m\u001b[38;5;28;43;01mFalse\u001b[39;49;00m\u001b[43m)\u001b[49m\n\u001b[0;32m    235\u001b[0m     neigh_dist \u001b[38;5;241m=\u001b[39m \u001b[38;5;28;01mNone\u001b[39;00m\n\u001b[0;32m    236\u001b[0m \u001b[38;5;28;01melse\u001b[39;00m:\n",
      "File \u001b[1;32m~\\anaconda3\\lib\\site-packages\\sklearn\\neighbors\\_base.py:824\u001b[0m, in \u001b[0;36mKNeighborsMixin.kneighbors\u001b[1;34m(self, X, n_neighbors, return_distance)\u001b[0m\n\u001b[0;32m    817\u001b[0m use_pairwise_distances_reductions \u001b[38;5;241m=\u001b[39m (\n\u001b[0;32m    818\u001b[0m     \u001b[38;5;28mself\u001b[39m\u001b[38;5;241m.\u001b[39m_fit_method \u001b[38;5;241m==\u001b[39m \u001b[38;5;124m\"\u001b[39m\u001b[38;5;124mbrute\u001b[39m\u001b[38;5;124m\"\u001b[39m\n\u001b[0;32m    819\u001b[0m     \u001b[38;5;129;01mand\u001b[39;00m ArgKmin\u001b[38;5;241m.\u001b[39mis_usable_for(\n\u001b[0;32m    820\u001b[0m         X \u001b[38;5;28;01mif\u001b[39;00m X \u001b[38;5;129;01mis\u001b[39;00m \u001b[38;5;129;01mnot\u001b[39;00m \u001b[38;5;28;01mNone\u001b[39;00m \u001b[38;5;28;01melse\u001b[39;00m \u001b[38;5;28mself\u001b[39m\u001b[38;5;241m.\u001b[39m_fit_X, \u001b[38;5;28mself\u001b[39m\u001b[38;5;241m.\u001b[39m_fit_X, \u001b[38;5;28mself\u001b[39m\u001b[38;5;241m.\u001b[39meffective_metric_\n\u001b[0;32m    821\u001b[0m     )\n\u001b[0;32m    822\u001b[0m )\n\u001b[0;32m    823\u001b[0m \u001b[38;5;28;01mif\u001b[39;00m use_pairwise_distances_reductions:\n\u001b[1;32m--> 824\u001b[0m     results \u001b[38;5;241m=\u001b[39m \u001b[43mArgKmin\u001b[49m\u001b[38;5;241;43m.\u001b[39;49m\u001b[43mcompute\u001b[49m\u001b[43m(\u001b[49m\n\u001b[0;32m    825\u001b[0m \u001b[43m        \u001b[49m\u001b[43mX\u001b[49m\u001b[38;5;241;43m=\u001b[39;49m\u001b[43mX\u001b[49m\u001b[43m,\u001b[49m\n\u001b[0;32m    826\u001b[0m \u001b[43m        \u001b[49m\u001b[43mY\u001b[49m\u001b[38;5;241;43m=\u001b[39;49m\u001b[38;5;28;43mself\u001b[39;49m\u001b[38;5;241;43m.\u001b[39;49m\u001b[43m_fit_X\u001b[49m\u001b[43m,\u001b[49m\n\u001b[0;32m    827\u001b[0m \u001b[43m        \u001b[49m\u001b[43mk\u001b[49m\u001b[38;5;241;43m=\u001b[39;49m\u001b[43mn_neighbors\u001b[49m\u001b[43m,\u001b[49m\n\u001b[0;32m    828\u001b[0m \u001b[43m        \u001b[49m\u001b[43mmetric\u001b[49m\u001b[38;5;241;43m=\u001b[39;49m\u001b[38;5;28;43mself\u001b[39;49m\u001b[38;5;241;43m.\u001b[39;49m\u001b[43meffective_metric_\u001b[49m\u001b[43m,\u001b[49m\n\u001b[0;32m    829\u001b[0m \u001b[43m        \u001b[49m\u001b[43mmetric_kwargs\u001b[49m\u001b[38;5;241;43m=\u001b[39;49m\u001b[38;5;28;43mself\u001b[39;49m\u001b[38;5;241;43m.\u001b[39;49m\u001b[43meffective_metric_params_\u001b[49m\u001b[43m,\u001b[49m\n\u001b[0;32m    830\u001b[0m \u001b[43m        \u001b[49m\u001b[43mstrategy\u001b[49m\u001b[38;5;241;43m=\u001b[39;49m\u001b[38;5;124;43m\"\u001b[39;49m\u001b[38;5;124;43mauto\u001b[39;49m\u001b[38;5;124;43m\"\u001b[39;49m\u001b[43m,\u001b[49m\n\u001b[0;32m    831\u001b[0m \u001b[43m        \u001b[49m\u001b[43mreturn_distance\u001b[49m\u001b[38;5;241;43m=\u001b[39;49m\u001b[43mreturn_distance\u001b[49m\u001b[43m,\u001b[49m\n\u001b[0;32m    832\u001b[0m \u001b[43m    \u001b[49m\u001b[43m)\u001b[49m\n\u001b[0;32m    834\u001b[0m \u001b[38;5;28;01melif\u001b[39;00m (\n\u001b[0;32m    835\u001b[0m     \u001b[38;5;28mself\u001b[39m\u001b[38;5;241m.\u001b[39m_fit_method \u001b[38;5;241m==\u001b[39m \u001b[38;5;124m\"\u001b[39m\u001b[38;5;124mbrute\u001b[39m\u001b[38;5;124m\"\u001b[39m \u001b[38;5;129;01mand\u001b[39;00m \u001b[38;5;28mself\u001b[39m\u001b[38;5;241m.\u001b[39mmetric \u001b[38;5;241m==\u001b[39m \u001b[38;5;124m\"\u001b[39m\u001b[38;5;124mprecomputed\u001b[39m\u001b[38;5;124m\"\u001b[39m \u001b[38;5;129;01mand\u001b[39;00m issparse(X)\n\u001b[0;32m    836\u001b[0m ):\n\u001b[0;32m    837\u001b[0m     results \u001b[38;5;241m=\u001b[39m _kneighbors_from_graph(\n\u001b[0;32m    838\u001b[0m         X, n_neighbors\u001b[38;5;241m=\u001b[39mn_neighbors, return_distance\u001b[38;5;241m=\u001b[39mreturn_distance\n\u001b[0;32m    839\u001b[0m     )\n",
      "File \u001b[1;32m~\\anaconda3\\lib\\site-packages\\sklearn\\metrics\\_pairwise_distances_reduction\\_dispatcher.py:277\u001b[0m, in \u001b[0;36mArgKmin.compute\u001b[1;34m(cls, X, Y, k, metric, chunk_size, metric_kwargs, strategy, return_distance)\u001b[0m\n\u001b[0;32m    196\u001b[0m \u001b[38;5;124;03m\"\"\"Compute the argkmin reduction.\u001b[39;00m\n\u001b[0;32m    197\u001b[0m \n\u001b[0;32m    198\u001b[0m \u001b[38;5;124;03mParameters\u001b[39;00m\n\u001b[1;32m   (...)\u001b[0m\n\u001b[0;32m    274\u001b[0m \u001b[38;5;124;03mreturns.\u001b[39;00m\n\u001b[0;32m    275\u001b[0m \u001b[38;5;124;03m\"\"\"\u001b[39;00m\n\u001b[0;32m    276\u001b[0m \u001b[38;5;28;01mif\u001b[39;00m X\u001b[38;5;241m.\u001b[39mdtype \u001b[38;5;241m==\u001b[39m Y\u001b[38;5;241m.\u001b[39mdtype \u001b[38;5;241m==\u001b[39m np\u001b[38;5;241m.\u001b[39mfloat64:\n\u001b[1;32m--> 277\u001b[0m     \u001b[38;5;28;01mreturn\u001b[39;00m \u001b[43mArgKmin64\u001b[49m\u001b[38;5;241;43m.\u001b[39;49m\u001b[43mcompute\u001b[49m\u001b[43m(\u001b[49m\n\u001b[0;32m    278\u001b[0m \u001b[43m        \u001b[49m\u001b[43mX\u001b[49m\u001b[38;5;241;43m=\u001b[39;49m\u001b[43mX\u001b[49m\u001b[43m,\u001b[49m\n\u001b[0;32m    279\u001b[0m \u001b[43m        \u001b[49m\u001b[43mY\u001b[49m\u001b[38;5;241;43m=\u001b[39;49m\u001b[43mY\u001b[49m\u001b[43m,\u001b[49m\n\u001b[0;32m    280\u001b[0m \u001b[43m        \u001b[49m\u001b[43mk\u001b[49m\u001b[38;5;241;43m=\u001b[39;49m\u001b[43mk\u001b[49m\u001b[43m,\u001b[49m\n\u001b[0;32m    281\u001b[0m \u001b[43m        \u001b[49m\u001b[43mmetric\u001b[49m\u001b[38;5;241;43m=\u001b[39;49m\u001b[43mmetric\u001b[49m\u001b[43m,\u001b[49m\n\u001b[0;32m    282\u001b[0m \u001b[43m        \u001b[49m\u001b[43mchunk_size\u001b[49m\u001b[38;5;241;43m=\u001b[39;49m\u001b[43mchunk_size\u001b[49m\u001b[43m,\u001b[49m\n\u001b[0;32m    283\u001b[0m \u001b[43m        \u001b[49m\u001b[43mmetric_kwargs\u001b[49m\u001b[38;5;241;43m=\u001b[39;49m\u001b[43mmetric_kwargs\u001b[49m\u001b[43m,\u001b[49m\n\u001b[0;32m    284\u001b[0m \u001b[43m        \u001b[49m\u001b[43mstrategy\u001b[49m\u001b[38;5;241;43m=\u001b[39;49m\u001b[43mstrategy\u001b[49m\u001b[43m,\u001b[49m\n\u001b[0;32m    285\u001b[0m \u001b[43m        \u001b[49m\u001b[43mreturn_distance\u001b[49m\u001b[38;5;241;43m=\u001b[39;49m\u001b[43mreturn_distance\u001b[49m\u001b[43m,\u001b[49m\n\u001b[0;32m    286\u001b[0m \u001b[43m    \u001b[49m\u001b[43m)\u001b[49m\n\u001b[0;32m    288\u001b[0m \u001b[38;5;28;01mif\u001b[39;00m X\u001b[38;5;241m.\u001b[39mdtype \u001b[38;5;241m==\u001b[39m Y\u001b[38;5;241m.\u001b[39mdtype \u001b[38;5;241m==\u001b[39m np\u001b[38;5;241m.\u001b[39mfloat32:\n\u001b[0;32m    289\u001b[0m     \u001b[38;5;28;01mreturn\u001b[39;00m ArgKmin32\u001b[38;5;241m.\u001b[39mcompute(\n\u001b[0;32m    290\u001b[0m         X\u001b[38;5;241m=\u001b[39mX,\n\u001b[0;32m    291\u001b[0m         Y\u001b[38;5;241m=\u001b[39mY,\n\u001b[1;32m   (...)\u001b[0m\n\u001b[0;32m    297\u001b[0m         return_distance\u001b[38;5;241m=\u001b[39mreturn_distance,\n\u001b[0;32m    298\u001b[0m     )\n",
      "File \u001b[1;32msklearn\\metrics\\_pairwise_distances_reduction\\_argkmin.pyx:95\u001b[0m, in \u001b[0;36msklearn.metrics._pairwise_distances_reduction._argkmin.ArgKmin64.compute\u001b[1;34m()\u001b[0m\n",
      "File \u001b[1;32m~\\anaconda3\\lib\\site-packages\\sklearn\\utils\\fixes.py:139\u001b[0m, in \u001b[0;36mthreadpool_limits\u001b[1;34m(limits, user_api)\u001b[0m\n\u001b[0;32m    137\u001b[0m     \u001b[38;5;28;01mreturn\u001b[39;00m controller\u001b[38;5;241m.\u001b[39mlimit(limits\u001b[38;5;241m=\u001b[39mlimits, user_api\u001b[38;5;241m=\u001b[39muser_api)\n\u001b[0;32m    138\u001b[0m \u001b[38;5;28;01melse\u001b[39;00m:\n\u001b[1;32m--> 139\u001b[0m     \u001b[38;5;28;01mreturn\u001b[39;00m \u001b[43mthreadpoolctl\u001b[49m\u001b[38;5;241;43m.\u001b[39;49m\u001b[43mthreadpool_limits\u001b[49m\u001b[43m(\u001b[49m\u001b[43mlimits\u001b[49m\u001b[38;5;241;43m=\u001b[39;49m\u001b[43mlimits\u001b[49m\u001b[43m,\u001b[49m\u001b[43m \u001b[49m\u001b[43muser_api\u001b[49m\u001b[38;5;241;43m=\u001b[39;49m\u001b[43muser_api\u001b[49m\u001b[43m)\u001b[49m\n",
      "File \u001b[1;32m~\\anaconda3\\lib\\site-packages\\threadpoolctl.py:171\u001b[0m, in \u001b[0;36mthreadpool_limits.__init__\u001b[1;34m(self, limits, user_api)\u001b[0m\n\u001b[0;32m    167\u001b[0m \u001b[38;5;28;01mdef\u001b[39;00m \u001b[38;5;21m__init__\u001b[39m(\u001b[38;5;28mself\u001b[39m, limits\u001b[38;5;241m=\u001b[39m\u001b[38;5;28;01mNone\u001b[39;00m, user_api\u001b[38;5;241m=\u001b[39m\u001b[38;5;28;01mNone\u001b[39;00m):\n\u001b[0;32m    168\u001b[0m     \u001b[38;5;28mself\u001b[39m\u001b[38;5;241m.\u001b[39m_limits, \u001b[38;5;28mself\u001b[39m\u001b[38;5;241m.\u001b[39m_user_api, \u001b[38;5;28mself\u001b[39m\u001b[38;5;241m.\u001b[39m_prefixes \u001b[38;5;241m=\u001b[39m \\\n\u001b[0;32m    169\u001b[0m         \u001b[38;5;28mself\u001b[39m\u001b[38;5;241m.\u001b[39m_check_params(limits, user_api)\n\u001b[1;32m--> 171\u001b[0m     \u001b[38;5;28mself\u001b[39m\u001b[38;5;241m.\u001b[39m_original_info \u001b[38;5;241m=\u001b[39m \u001b[38;5;28;43mself\u001b[39;49m\u001b[38;5;241;43m.\u001b[39;49m\u001b[43m_set_threadpool_limits\u001b[49m\u001b[43m(\u001b[49m\u001b[43m)\u001b[49m\n",
      "File \u001b[1;32m~\\anaconda3\\lib\\site-packages\\threadpoolctl.py:268\u001b[0m, in \u001b[0;36mthreadpool_limits._set_threadpool_limits\u001b[1;34m(self)\u001b[0m\n\u001b[0;32m    265\u001b[0m \u001b[38;5;28;01mif\u001b[39;00m \u001b[38;5;28mself\u001b[39m\u001b[38;5;241m.\u001b[39m_limits \u001b[38;5;129;01mis\u001b[39;00m \u001b[38;5;28;01mNone\u001b[39;00m:\n\u001b[0;32m    266\u001b[0m     \u001b[38;5;28;01mreturn\u001b[39;00m \u001b[38;5;28;01mNone\u001b[39;00m\n\u001b[1;32m--> 268\u001b[0m modules \u001b[38;5;241m=\u001b[39m \u001b[43m_ThreadpoolInfo\u001b[49m\u001b[43m(\u001b[49m\u001b[43mprefixes\u001b[49m\u001b[38;5;241;43m=\u001b[39;49m\u001b[38;5;28;43mself\u001b[39;49m\u001b[38;5;241;43m.\u001b[39;49m\u001b[43m_prefixes\u001b[49m\u001b[43m,\u001b[49m\n\u001b[0;32m    269\u001b[0m \u001b[43m                          \u001b[49m\u001b[43muser_api\u001b[49m\u001b[38;5;241;43m=\u001b[39;49m\u001b[38;5;28;43mself\u001b[39;49m\u001b[38;5;241;43m.\u001b[39;49m\u001b[43m_user_api\u001b[49m\u001b[43m)\u001b[49m\n\u001b[0;32m    270\u001b[0m \u001b[38;5;28;01mfor\u001b[39;00m module \u001b[38;5;129;01min\u001b[39;00m modules:\n\u001b[0;32m    271\u001b[0m     \u001b[38;5;66;03m# self._limits is a dict {key: num_threads} where key is either\u001b[39;00m\n\u001b[0;32m    272\u001b[0m     \u001b[38;5;66;03m# a prefix or a user_api. If a module matches both, the limit\u001b[39;00m\n\u001b[0;32m    273\u001b[0m     \u001b[38;5;66;03m# corresponding to the prefix is chosed.\u001b[39;00m\n\u001b[0;32m    274\u001b[0m     \u001b[38;5;28;01mif\u001b[39;00m module\u001b[38;5;241m.\u001b[39mprefix \u001b[38;5;129;01min\u001b[39;00m \u001b[38;5;28mself\u001b[39m\u001b[38;5;241m.\u001b[39m_limits:\n",
      "File \u001b[1;32m~\\anaconda3\\lib\\site-packages\\threadpoolctl.py:340\u001b[0m, in \u001b[0;36m_ThreadpoolInfo.__init__\u001b[1;34m(self, user_api, prefixes, modules)\u001b[0m\n\u001b[0;32m    337\u001b[0m     \u001b[38;5;28mself\u001b[39m\u001b[38;5;241m.\u001b[39muser_api \u001b[38;5;241m=\u001b[39m [] \u001b[38;5;28;01mif\u001b[39;00m user_api \u001b[38;5;129;01mis\u001b[39;00m \u001b[38;5;28;01mNone\u001b[39;00m \u001b[38;5;28;01melse\u001b[39;00m user_api\n\u001b[0;32m    339\u001b[0m     \u001b[38;5;28mself\u001b[39m\u001b[38;5;241m.\u001b[39mmodules \u001b[38;5;241m=\u001b[39m []\n\u001b[1;32m--> 340\u001b[0m     \u001b[38;5;28;43mself\u001b[39;49m\u001b[38;5;241;43m.\u001b[39;49m\u001b[43m_load_modules\u001b[49m\u001b[43m(\u001b[49m\u001b[43m)\u001b[49m\n\u001b[0;32m    341\u001b[0m     \u001b[38;5;28mself\u001b[39m\u001b[38;5;241m.\u001b[39m_warn_if_incompatible_openmp()\n\u001b[0;32m    342\u001b[0m \u001b[38;5;28;01melse\u001b[39;00m:\n",
      "File \u001b[1;32m~\\anaconda3\\lib\\site-packages\\threadpoolctl.py:373\u001b[0m, in \u001b[0;36m_ThreadpoolInfo._load_modules\u001b[1;34m(self)\u001b[0m\n\u001b[0;32m    371\u001b[0m     \u001b[38;5;28mself\u001b[39m\u001b[38;5;241m.\u001b[39m_find_modules_with_dyld()\n\u001b[0;32m    372\u001b[0m \u001b[38;5;28;01melif\u001b[39;00m sys\u001b[38;5;241m.\u001b[39mplatform \u001b[38;5;241m==\u001b[39m \u001b[38;5;124m\"\u001b[39m\u001b[38;5;124mwin32\u001b[39m\u001b[38;5;124m\"\u001b[39m:\n\u001b[1;32m--> 373\u001b[0m     \u001b[38;5;28;43mself\u001b[39;49m\u001b[38;5;241;43m.\u001b[39;49m\u001b[43m_find_modules_with_enum_process_module_ex\u001b[49m\u001b[43m(\u001b[49m\u001b[43m)\u001b[49m\n\u001b[0;32m    374\u001b[0m \u001b[38;5;28;01melse\u001b[39;00m:\n\u001b[0;32m    375\u001b[0m     \u001b[38;5;28mself\u001b[39m\u001b[38;5;241m.\u001b[39m_find_modules_with_dl_iterate_phdr()\n",
      "File \u001b[1;32m~\\anaconda3\\lib\\site-packages\\threadpoolctl.py:478\u001b[0m, in \u001b[0;36m_ThreadpoolInfo._find_modules_with_enum_process_module_ex\u001b[1;34m(self)\u001b[0m\n\u001b[0;32m    474\u001b[0m n_size \u001b[38;5;241m=\u001b[39m DWORD()\n\u001b[0;32m    475\u001b[0m \u001b[38;5;28;01mfor\u001b[39;00m h_module \u001b[38;5;129;01min\u001b[39;00m h_modules:\n\u001b[0;32m    476\u001b[0m \n\u001b[0;32m    477\u001b[0m     \u001b[38;5;66;03m# Get the path of the current module\u001b[39;00m\n\u001b[1;32m--> 478\u001b[0m     \u001b[38;5;28;01mif\u001b[39;00m \u001b[38;5;129;01mnot\u001b[39;00m \u001b[43mps_api\u001b[49m\u001b[38;5;241;43m.\u001b[39;49m\u001b[43mGetModuleFileNameExW\u001b[49m\u001b[43m(\u001b[49m\n\u001b[0;32m    479\u001b[0m \u001b[43m            \u001b[49m\u001b[43mh_process\u001b[49m\u001b[43m,\u001b[49m\u001b[43m \u001b[49m\u001b[43mh_module\u001b[49m\u001b[43m,\u001b[49m\u001b[43m \u001b[49m\u001b[43mctypes\u001b[49m\u001b[38;5;241;43m.\u001b[39;49m\u001b[43mbyref\u001b[49m\u001b[43m(\u001b[49m\u001b[43mbuf\u001b[49m\u001b[43m)\u001b[49m\u001b[43m,\u001b[49m\n\u001b[0;32m    480\u001b[0m \u001b[43m            \u001b[49m\u001b[43mctypes\u001b[49m\u001b[38;5;241;43m.\u001b[39;49m\u001b[43mbyref\u001b[49m\u001b[43m(\u001b[49m\u001b[43mn_size\u001b[49m\u001b[43m)\u001b[49m\u001b[43m)\u001b[49m:\n\u001b[0;32m    481\u001b[0m         \u001b[38;5;28;01mraise\u001b[39;00m \u001b[38;5;167;01mOSError\u001b[39;00m(\u001b[38;5;124m\"\u001b[39m\u001b[38;5;124mGetModuleFileNameEx failed\u001b[39m\u001b[38;5;124m\"\u001b[39m)\n\u001b[0;32m    482\u001b[0m     filepath \u001b[38;5;241m=\u001b[39m buf\u001b[38;5;241m.\u001b[39mvalue\n",
      "\u001b[1;31mKeyboardInterrupt\u001b[0m: "
     ]
    }
   ],
   "source": [
    "#s_list=[20,50,100,500,1000,5000,20000]\n",
    "#takes a long long time to run\n",
    "s_list=[20,50,100,500,1000,5000]\n",
    "\n",
    "knn_error_rate_dict={}\n",
    "\n",
    "for s in s_list:\n",
    "    \n",
    "    features_dataset, labels_dataset, index_list = sample_label_points(s,pca_features,labels)\n",
    "    \n",
    "    neigh = KNeighborsClassifier(n_neighbors=3,p=2, metric='minkowski')\n",
    "    neigh.fit(features_dataset, labels_dataset)\n",
    "    \n",
    "    knn_error = knn_error_rate(index_list,pca_features,labels)\n",
    "    x=round(100*knn_error,3)\n",
    "    print(\"kNN error rate for s =\",s,\":\",x,\"%\")\n",
    "    \n",
    "    knn_error_rate_dict[s]=x"
   ]
  },
  {
   "cell_type": "markdown",
   "id": "591c94f0",
   "metadata": {},
   "source": [
    "## 11. Final Plot <a name=\"11\"></a>"
   ]
  },
  {
   "cell_type": "code",
   "execution_count": null,
   "id": "c8907b4e",
   "metadata": {},
   "outputs": [],
   "source": [
    "#plot specifications\n",
    "\n",
    "plt.figure(figsize=(20,10))\n",
    "\n",
    "\n",
    "x=[1,2,3,4,5,6]\n",
    "y=list(error60000_s.values())\n",
    "\n",
    "plt.plot(x, y,marker='x', color='b', label = \"60,000 datapoints\")\n",
    "\n",
    "plt.xlabel('Number of labeled datapoints')  \n",
    "plt.xticks([1,2,3,4,5,6])\n",
    "plt.yticks(np.arange(1,66,3))\n",
    "plt.ylabel('Error rate (%)')  \n",
    "\n",
    "x=[1,2,3,4,5,6]\n",
    "y=list(error10000_s.values())\n",
    "plt.plot(x, y,marker='o', color='r', label = \"10,000 datapoints\")\n",
    "\n",
    "x=[1,2,3,4]\n",
    "y=list(error1000_s.values())\n",
    "plt.plot(x, y,marker='^', color='g', label = \"1000 datapoints\")\n",
    "\n",
    "x=[1,2,3,4,5,6]\n",
    "y=list(knn_error_rate_dict.values())\n",
    "plt.plot(x, y, marker='+',linestyle='dashed', color='black', label = \"kNN (k=3)\")\n",
    "\n",
    "plt.legend()"
   ]
  },
  {
   "cell_type": "code",
   "execution_count": null,
   "id": "770d8ace",
   "metadata": {},
   "outputs": [],
   "source": []
  }
 ],
 "metadata": {
  "kernelspec": {
   "display_name": "Python 3 (ipykernel)",
   "language": "python",
   "name": "python3"
  },
  "language_info": {
   "codemirror_mode": {
    "name": "ipython",
    "version": 3
   },
   "file_extension": ".py",
   "mimetype": "text/x-python",
   "name": "python",
   "nbconvert_exporter": "python",
   "pygments_lexer": "ipython3",
   "version": "3.10.9"
  }
 },
 "nbformat": 4,
 "nbformat_minor": 5
}
